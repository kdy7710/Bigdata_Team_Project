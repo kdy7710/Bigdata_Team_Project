{
 "cells": [
  {
   "cell_type": "code",
   "execution_count": 1,
   "metadata": {},
   "outputs": [],
   "source": [
    "import pandas as pd\n",
    "import numpy as np\n",
    "import matplotlib.pyplot as plt\n",
    "import seaborn as sns"
   ]
  },
  {
   "cell_type": "code",
   "execution_count": 2,
   "metadata": {},
   "outputs": [],
   "source": [
    "#표 한글, 음수표현 처리\n",
    "import matplotlib\n",
    "import matplotlib.font_manager as fm\n",
    "font_location = 'C:/Windows/Fonts/malgun.ttf'\n",
    "font_name = fm.FontProperties(fname='C:/Windows/Fonts/malgun.ttf').get_name()\n",
    "matplotlib.rc('font',family=font_name)\n",
    "matplotlib.rcParams['axes.unicode_minus'] = False"
   ]
  },
  {
   "cell_type": "code",
   "execution_count": 3,
   "metadata": {},
   "outputs": [],
   "source": [
    "B = pd.read_csv('../beauti_result1.csv')"
   ]
  },
  {
   "cell_type": "code",
   "execution_count": 5,
   "metadata": {},
   "outputs": [
    {
     "output_type": "execute_result",
     "data": {
      "text/plain": "    Unnamed: 0     스팀베이스      비건뷰티       컨투어\n0            0  66.31578  21.62162  31.94444\n1            1  68.42105  13.51351  25.69444\n2            2  63.15789   0.00000  24.30555\n3            3  48.94736   0.00000  23.61111\n4            4  63.68421  29.72972  24.30555\n..         ...       ...       ...       ...\n56          56  31.05263  16.21621  40.27777\n57          57  33.68421  43.24324  34.02777\n58          58  37.36842  29.72972  35.41666\n59          59  23.68421   0.00000  37.50000\n60          60  30.00000   0.00000  20.83333\n\n[61 rows x 4 columns]",
      "text/html": "<div>\n<style scoped>\n    .dataframe tbody tr th:only-of-type {\n        vertical-align: middle;\n    }\n\n    .dataframe tbody tr th {\n        vertical-align: top;\n    }\n\n    .dataframe thead th {\n        text-align: right;\n    }\n</style>\n<table border=\"1\" class=\"dataframe\">\n  <thead>\n    <tr style=\"text-align: right;\">\n      <th></th>\n      <th>Unnamed: 0</th>\n      <th>스팀베이스</th>\n      <th>비건뷰티</th>\n      <th>컨투어</th>\n    </tr>\n  </thead>\n  <tbody>\n    <tr>\n      <th>0</th>\n      <td>0</td>\n      <td>66.31578</td>\n      <td>21.62162</td>\n      <td>31.94444</td>\n    </tr>\n    <tr>\n      <th>1</th>\n      <td>1</td>\n      <td>68.42105</td>\n      <td>13.51351</td>\n      <td>25.69444</td>\n    </tr>\n    <tr>\n      <th>2</th>\n      <td>2</td>\n      <td>63.15789</td>\n      <td>0.00000</td>\n      <td>24.30555</td>\n    </tr>\n    <tr>\n      <th>3</th>\n      <td>3</td>\n      <td>48.94736</td>\n      <td>0.00000</td>\n      <td>23.61111</td>\n    </tr>\n    <tr>\n      <th>4</th>\n      <td>4</td>\n      <td>63.68421</td>\n      <td>29.72972</td>\n      <td>24.30555</td>\n    </tr>\n    <tr>\n      <th>...</th>\n      <td>...</td>\n      <td>...</td>\n      <td>...</td>\n      <td>...</td>\n    </tr>\n    <tr>\n      <th>56</th>\n      <td>56</td>\n      <td>31.05263</td>\n      <td>16.21621</td>\n      <td>40.27777</td>\n    </tr>\n    <tr>\n      <th>57</th>\n      <td>57</td>\n      <td>33.68421</td>\n      <td>43.24324</td>\n      <td>34.02777</td>\n    </tr>\n    <tr>\n      <th>58</th>\n      <td>58</td>\n      <td>37.36842</td>\n      <td>29.72972</td>\n      <td>35.41666</td>\n    </tr>\n    <tr>\n      <th>59</th>\n      <td>59</td>\n      <td>23.68421</td>\n      <td>0.00000</td>\n      <td>37.50000</td>\n    </tr>\n    <tr>\n      <th>60</th>\n      <td>60</td>\n      <td>30.00000</td>\n      <td>0.00000</td>\n      <td>20.83333</td>\n    </tr>\n  </tbody>\n</table>\n<p>61 rows × 4 columns</p>\n</div>"
     },
     "metadata": {},
     "execution_count": 5
    }
   ],
   "source": [
    "B"
   ]
  },
  {
   "cell_type": "code",
   "execution_count": 6,
   "metadata": {},
   "outputs": [
    {
     "output_type": "stream",
     "name": "stdout",
     "text": "<class 'pandas.core.frame.DataFrame'>\nRangeIndex: 61 entries, 0 to 60\nData columns (total 4 columns):\n #   Column      Non-Null Count  Dtype  \n---  ------      --------------  -----  \n 0   Unnamed: 0  61 non-null     int64  \n 1   스팀베이스       61 non-null     float64\n 2   비건뷰티        61 non-null     float64\n 3   컨투어         61 non-null     float64\ndtypes: float64(3), int64(1)\nmemory usage: 2.0 KB\n"
    }
   ],
   "source": [
    "B.info()"
   ]
  },
  {
   "cell_type": "code",
   "execution_count": 7,
   "metadata": {},
   "outputs": [
    {
     "output_type": "execute_result",
     "data": {
      "text/plain": "Index(['Unnamed: 0', '스팀베이스', '비건뷰티', '컨투어', 'Row_mean'], dtype='object')"
     },
     "metadata": {},
     "execution_count": 7
    }
   ],
   "source": [
    "# row별( ??? 개 ) 평균 컬럼 추가\n",
    "\n",
    "Row_mean = []\n",
    "for i in range(0,len(B.index)):\n",
    "    Row_mean.append(B.iloc[i].mean())\n",
    "Row_mean = pd.DataFrame(Row_mean)\n",
    "B['Row_mean'] = Row_mean\n",
    "\n",
    "B.columns"
   ]
  },
  {
   "cell_type": "code",
   "execution_count": null,
   "metadata": {},
   "outputs": [],
   "source": [
    "# 이격도 제작\n",
    "# ['Row_mean']의 5일간격 평균치\n",
    "\n",
    "# avg_5 = []\n",
    "# for i in range(0,len(B['Row_mean'])):\n",
    "#     avg_5.append(B['Row_mean'][i:i+5].mean())\n",
    "# avg_5 = pd.DataFrame(avg_5)\n",
    "# avg_5\n",
    "# B['avg_5'] = avg_5\n",
    "\n",
    "# B.columns"
   ]
  },
  {
   "cell_type": "code",
   "execution_count": null,
   "metadata": {},
   "outputs": [],
   "source": [
    "# 영상 게시일자(0~60)을 (-30~0~30) 으로 변경\n",
    "B.index = np.arange(-30,31)\n",
    "B.head()"
   ]
  },
  {
   "cell_type": "code",
   "execution_count": null,
   "metadata": {},
   "outputs": [],
   "source": [
    "# plot 출력\n",
    "\n",
    "fig = plt.figure(figsize=(20,10))\n",
    "ax = fig.add_subplot(1,1,1)\n",
    "\n",
    "# B['Row_mean'].plot()\n",
    "plt.plot(B['Row_mean'])\n",
    "ax.plot(B.index, B['avg_5'],linewidth=35,color='skyblue')\n",
    "ax.plot(B.index, B['Row_mean'],linewidth=3,color='red')\n",
    "plt.xlabel('영상 게시일')\n",
    "plt.ylabel('Naver 검색량')\n",
    "plt.title('PPL : Naver')\n",
    "# annot : 'Row_mean'\n",
    "plt.annotate('게시 일자'+'\\n'+'('+str('%.2f' % B['Row_mean'][0])+')',\n",
    "            xy = (0+0.2, B['Row_mean'][0]+0.1),\n",
    "            xytext = (0+3, B['Row_mean'][0]+0.5),\n",
    "            ha = 'center',\n",
    "            arrowprops={'facecolor' : 'red'}\n",
    "            )\n",
    "# annot : 'avg_5'\n",
    "plt.annotate('이격도'+'\\n'+'('+str('%.2f' % B['avg_5'][0])+')',\n",
    "            xy = (0+0.55, B['avg_5'][0]+0.4),\n",
    "            xytext = (0+3.2, B['avg_5'][0]+0.9),\n",
    "            ha = 'center',\n",
    "            arrowprops={'facecolor' : 'skyblue'}\n",
    "            )\n",
    "plt.grid(True)\n",
    "\n",
    "plt.show()"
   ]
  },
  {
   "cell_type": "code",
   "execution_count": null,
   "metadata": {},
   "outputs": [],
   "source": [
    "# 평균과 이격도의 차이\n",
    "M_A = B['Row_mean'] - B['avg_5']\n",
    "\n",
    "plt.figure(figsize=(20,10))\n",
    "plt.title('검색량 평균과 추세(이격도)의 차이')\n",
    "plt.plot(B['Row_mean'] - B['avg_5'])\n",
    "plt.xlabel('영상 게시일')\n",
    "plt.annotate('게시 일자'+'\\n'+'('+str('%.2f' % M_A[0])+')',\n",
    "            xy =(0,M_A[0]+0.04),\n",
    "            ha = 'center')\n",
    "# 0 이상인 데이터\n",
    "plt.ylim(0)\n",
    "plt.grid(True)\n",
    "\n",
    "plt.show()"
   ]
  },
  {
   "cell_type": "code",
   "execution_count": null,
   "metadata": {},
   "outputs": [],
   "source": [
    "# 구독자수에 대한 분석 필요. (PPL기준의 분석흐름이라 아직 없음)\n",
    "# 상품명으로만? (품목이 필요할까?)"
   ]
  },
  {
   "cell_type": "markdown",
   "metadata": {},
   "source": [
    "# 결론 ( 뷰티인플루언서(유튜브)의 영향력 - 구독자, 상품(품목)에 따라 )"
   ]
  }
 ],
 "metadata": {
  "language_info": {
   "codemirror_mode": {
    "name": "ipython",
    "version": 3
   },
   "file_extension": ".py",
   "mimetype": "text/x-python",
   "name": "python",
   "nbconvert_exporter": "python",
   "pygments_lexer": "ipython3",
   "version": "3.7.6-final"
  },
  "orig_nbformat": 2,
  "kernelspec": {
   "name": "python3",
   "display_name": "Python 3"
  }
 },
 "nbformat": 4,
 "nbformat_minor": 2
}