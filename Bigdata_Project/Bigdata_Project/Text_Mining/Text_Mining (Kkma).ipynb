{
 "cells": [
  {
   "cell_type": "markdown",
   "metadata": {},
   "source": [
    "### get_stopwords\n",
    "* 불용어 리스트 리턴"
   ]
  },
  {
   "cell_type": "code",
   "execution_count": 49,
   "metadata": {},
   "outputs": [],
   "source": [
    "def get_stopwords():\n",
    "    from nltk import word_tokenize\n",
    "\n",
    "\n",
    "    with open('stopwords',encoding='utf8') as f:\n",
    "        stopwords = f.read()\n",
    "        stopwords = word_tokenize(stopwords)\n",
    "    return(stopwords)\n",
    "   "
   ]
  },
  {
   "cell_type": "markdown",
   "metadata": {},
   "source": [
    "### get_nouns()\n",
    "* 불용어를 제외한 명사를 리턴 "
   ]
  },
  {
   "cell_type": "code",
   "execution_count": 50,
   "metadata": {},
   "outputs": [],
   "source": [
    "def get_nouns(file_path):\n",
    "    from konlpy.tag import Kkma\n",
    "    km = Kkma()\n",
    "    noun_list =[]\n",
    "    with open(file_path,'r') as f:\n",
    "        lines = f.readlines() # 한 라인씩 읽지 않으면 kn.nouns() 에서 에러남\n",
    "        for line in lines:\n",
    "            if km.nouns(line) != list(''):  \n",
    "                nouns = km.nouns(line)\n",
    "                for noun in nouns:\n",
    "                    stopwords = get_stopwords()\n",
    "                    if noun not in stopwords:\n",
    "                        noun_list.append(noun)\n",
    "\n",
    "    return(noun_list)\n",
    "        \n",
    "\n",
    "         "
   ]
  },
  {
   "cell_type": "code",
   "execution_count": 53,
   "metadata": {},
   "outputs": [
    {
     "data": {
      "image/png": "[encoded data removed]",
      "text/plain": [
       "<Figure size 432x288 with 1 Axes>"
      ]
     },
     "metadata": {
      "needs_background": "light"
     },
     "output_type": "display_data"
    }
   ],
   "source": [
    "import nltk\n",
    "from matplotlib import font_manager, rc\n",
    "### 한국어 설정\n",
    "font_name = font_manager.FontProperties(fname=\"c:/Windows/Fonts/malgun.ttf\").get_name()\n",
    "rc('font', family=font_name)\n",
    "nouns = get_nouns('test.txt')\n",
    "ko = nltk.Text(nouns)\n",
    "ko.plot(20)"
   ]
  },
  {
   "cell_type": "code",
   "execution_count": null,
   "metadata": {},
   "outputs": [],
   "source": []
  }
 ],
 "metadata": {
  "kernelspec": {
   "display_name": "Python 3",
   "language": "python",
   "name": "python3"
  },
  "language_info": {
   "codemirror_mode": {
    "name": "ipython",
    "version": 3
   },
   "file_extension": ".py",
   "mimetype": "text/x-python",
   "name": "python",
   "nbconvert_exporter": "python",
   "pygments_lexer": "ipython3",
   "version": "3.7.6"
  }
 },
 "nbformat": 4,
 "nbformat_minor": 4
}
