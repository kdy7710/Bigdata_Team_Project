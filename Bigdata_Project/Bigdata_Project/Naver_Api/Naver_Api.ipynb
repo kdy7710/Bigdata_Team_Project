{
 "cells": [
  {
   "cell_type": "code",
   "execution_count": 1,
   "metadata": {},
   "outputs": [],
   "source": [
    "def search(keyword, option1= None, option2 = None ):    \n",
    "    import os\n",
    "    import re \n",
    "    import sys\n",
    "    import pandas as pd\n",
    "    import urllib.request\n",
    "    # 네이버 API 접근 계정\n",
    "    client_id = \"I4Fva_A2tRCvTccEOaAX\"\n",
    "    client_secret = \"jC5ic5g9wu\"\n",
    "\n",
    "    # URL\n",
    "    url = \"https://openapi.naver.com/v1/datalab/search\";\n",
    "\n",
    "    # 질의문\n",
    "    body = \"{\\\"startDate\\\":\\\"2020-01-01\\\",\\\n",
    "             \\\"endDate\\\":\\\"2020-04-30\\\",\\\n",
    "             \\\"timeUnit\\\":\\\"date\\\",\\\n",
    "             \\\"keywordGroups\\\":[{\\\n",
    "             \\\"groupName\\\":\\\"%s\\\",\\\n",
    "             \\\"keywords\\\":[\\\"%s\\\",\\\"%s\\\"]}],\\\n",
    "             \\\"device\\\":\\\"pc\\\",\\\n",
    "             \\\"ages\\\":[\\\"1\\\",\\\"2\\\"],\\\n",
    "             \\\"gender\\\":\\\"f\\\"}\" %(keyword,option1,option2);\n",
    "\n",
    "    # 초기화\n",
    "    regexp_date = ''  # 날짜 정규식 적용\n",
    "    regexp_ratio= ''  # 비율 정규식 적용\n",
    "    union_date=\"\"     # 날짜 정규식 결과값 결합\n",
    "    result_date = []  # String -> List 변환\n",
    "    result_ratio = [] # String -> List 변환\n",
    "    union_date_ratio =[] # 날짜와 비율을 같은 인덱스에 담기 위한 리스트\n",
    "\n",
    "    request = urllib.request.Request(url)\n",
    "    request.add_header(\"X-Naver-Client-Id\",client_id)\n",
    "    request.add_header(\"X-Naver-Client-Secret\",client_secret)\n",
    "    request.add_header(\"Content-Type\",\"application/json\")\n",
    "    response = urllib.request.urlopen(request, data=body.encode(\"utf-8\"))\n",
    "    rescode = response.getcode()\n",
    "\n",
    "    if(rescode==200):\n",
    "\n",
    "        # 네이버API 질의문에 대한 응답 리스트에 저장 (인코딩, 쉼표 기준 문자열 자르기)\n",
    "        response_body = response.read().decode('utf-8').split(',')\n",
    "\n",
    "        for i in range(0,len(response_body)) :\n",
    "            #정규식(날짜) 적용하여 필터링된 값 저장\n",
    "            regexp_date = re.findall('\\d{4}-\\d\\d-\\d\\d',response_body[i])\n",
    "            regexp_date = str(regexp_date).replace(\"['\",'')\n",
    "            regexp_date = regexp_date.replace(\"']\",'')\n",
    "\n",
    "            if regexp_date != '[]':\n",
    "                result_date.append(str(regexp_date)) \n",
    "\n",
    "        # result_date에서 시작&끝 날짜 제외\n",
    "        result_date = result_date[2:]\n",
    "\n",
    "\n",
    "\n",
    "        for i in range(0,len(response_body)) :\n",
    "            #정규식(비율->실수) 적용하여 필터링된 값 저장\n",
    "            #100이 나오는 경우가 있어 정규식에 포함\n",
    "            rate = re.compile(':\\d{1,3}')\n",
    "            regexp_ratio = re.findall('\\d+\\.\\d+',response_body[i])\n",
    "            if regexp_ratio == list(''):\n",
    "                regexp_ratio = re.findall(rate,response_body[i])\n",
    "            if regexp_ratio!=list(''):\n",
    "                #리스트가 비어있지 않을 경우에만 저장\n",
    "                regexp_ratio = str(regexp_ratio).replace(\"['\",'')\n",
    "                regexp_ratio = str(regexp_ratio).replace(\"']\",'')\n",
    "                regexp_ratio = str(regexp_ratio).replace(\":\",'')\n",
    "                result_ratio.append(regexp_ratio)\n",
    "\n",
    "\n",
    "    else:\n",
    "        print(\"Error Code:\" + rescode)\n",
    "\n",
    "   \n",
    "\n",
    "    # 엑셀파일 저장\n",
    "    df = pd.DataFrame(union_date_ratio, columns=['날짜','비율'])\n",
    "    print(len(result_ratio)==len(result_date))\n",
    "    for i in range(0,len(result_date)):\n",
    "\n",
    "        df = df.append(\n",
    "        {\n",
    "            '날짜': result_date[i],\n",
    "            '비율': result_ratio[i]\n",
    "\n",
    "        }, ignore_index=True \n",
    "        )\n",
    "\n",
    "  \n",
    "    df.to_excel(keyword+'.xlsx', index=False)\n",
    "\n",
    "\n",
    "    print('*** 내보내기 완료 ***')\n",
    "\n"
   ]
  },
  {
   "cell_type": "code",
   "execution_count": 2,
   "metadata": {},
   "outputs": [
    {
     "data": {
      "text/plain": [
       "Text(0.5, 1.0, '네이버 검색율 변동 추이')"
      ]
     },
     "execution_count": 2,
     "metadata": {},
     "output_type": "execute_result"
    },
    {
     "data": {
      "text/plain": [
       "<Figure size 432x288 with 0 Axes>"
      ]
     },
     "metadata": {},
     "output_type": "display_data"
    },
    {
     "data": {
      "image/png": "[encoded data removed]",
      "text/plain": [
       "<Figure size 432x288 with 1 Axes>"
      ]
     },
     "metadata": {
      "needs_background": "light"
     },
     "output_type": "display_data"
    }
   ],
   "source": [
    "import pandas as pd\n",
    "import matplotlib.pyplot as plt\n",
    "from matplotlib import font_manager, rc\n",
    " \n",
    "\n",
    "### 한국어 설정\n",
    "font_name = font_manager.FontProperties(fname=\"c:/Windows/Fonts/malgun.ttf\").get_name()\n",
    "rc('font', family=font_name)\n",
    "fig = plt.figure()\n",
    "\n",
    "\n",
    "df = pd.read_excel('네이버API 테스트.xlsx',index_col = '날짜')\n",
    "df = df[0:122]\n",
    "\n",
    "\n",
    "ax = df.plot()\n",
    "ax.set_ylabel('검색률')\n",
    "ax.set_title('네이버 검색율 변동 추이')"
   ]
  },
  {
   "cell_type": "code",
   "execution_count": 12,
   "metadata": {},
   "outputs": [
    {
     "data": {
      "text/html": [
       "<div>\n",
       "<style scoped>\n",
       "    .dataframe tbody tr th:only-of-type {\n",
       "        vertical-align: middle;\n",
       "    }\n",
       "\n",
       "    .dataframe tbody tr th {\n",
       "        vertical-align: top;\n",
       "    }\n",
       "\n",
       "    .dataframe thead th {\n",
       "        text-align: right;\n",
       "    }\n",
       "</style>\n",
       "<table border=\"1\" class=\"dataframe\">\n",
       "  <thead>\n",
       "    <tr style=\"text-align: right;\">\n",
       "      <th></th>\n",
       "      <th>비율</th>\n",
       "    </tr>\n",
       "    <tr>\n",
       "      <th>날짜</th>\n",
       "      <th></th>\n",
       "    </tr>\n",
       "  </thead>\n",
       "  <tbody>\n",
       "    <tr>\n",
       "      <th>2020-01-01</th>\n",
       "      <td>0.10370</td>\n",
       "    </tr>\n",
       "    <tr>\n",
       "      <th>2020-01-02</th>\n",
       "      <td>0.05185</td>\n",
       "    </tr>\n",
       "    <tr>\n",
       "      <th>2020-01-03</th>\n",
       "      <td>0.12963</td>\n",
       "    </tr>\n",
       "    <tr>\n",
       "      <th>2020-01-04</th>\n",
       "      <td>0.49909</td>\n",
       "    </tr>\n",
       "    <tr>\n",
       "      <th>2020-01-05</th>\n",
       "      <td>0.01296</td>\n",
       "    </tr>\n",
       "    <tr>\n",
       "      <th>...</th>\n",
       "      <td>...</td>\n",
       "    </tr>\n",
       "    <tr>\n",
       "      <th>2020-04-26</th>\n",
       "      <td>5.61317</td>\n",
       "    </tr>\n",
       "    <tr>\n",
       "      <th>2020-04-27</th>\n",
       "      <td>5.03629</td>\n",
       "    </tr>\n",
       "    <tr>\n",
       "      <th>2020-04-28</th>\n",
       "      <td>2.45009</td>\n",
       "    </tr>\n",
       "    <tr>\n",
       "      <th>2020-04-29</th>\n",
       "      <td>1.86025</td>\n",
       "    </tr>\n",
       "    <tr>\n",
       "      <th>2020-04-30</th>\n",
       "      <td>1.23800</td>\n",
       "    </tr>\n",
       "  </tbody>\n",
       "</table>\n",
       "<p>120 rows × 1 columns</p>\n",
       "</div>"
      ],
      "text/plain": [
       "                 비율\n",
       "날짜                 \n",
       "2020-01-01  0.10370\n",
       "2020-01-02  0.05185\n",
       "2020-01-03  0.12963\n",
       "2020-01-04  0.49909\n",
       "2020-01-05  0.01296\n",
       "...             ...\n",
       "2020-04-26  5.61317\n",
       "2020-04-27  5.03629\n",
       "2020-04-28  2.45009\n",
       "2020-04-29  1.86025\n",
       "2020-04-30  1.23800\n",
       "\n",
       "[120 rows x 1 columns]"
      ]
     },
     "execution_count": 12,
     "metadata": {},
     "output_type": "execute_result"
    },
    {
     "data": {
      "text/plain": [
       "<Figure size 432x288 with 0 Axes>"
      ]
     },
     "metadata": {},
     "output_type": "display_data"
    },
    {
     "data": {
      "image/png": "[encoded data removed]",
      "text/plain": [
       "<Figure size 432x288 with 1 Axes>"
      ]
     },
     "metadata": {
      "needs_background": "light"
     },
     "output_type": "display_data"
    }
   ],
   "source": [
    "from naver_api import search\n",
    "from matplotlib import font_manager, rc\n",
    "import matplotlib.pyplot as plt\n",
    "### 한국어 설정\n",
    "font_name = font_manager.FontProperties(fname=\"c:/Windows/Fonts/malgun.ttf\").get_name()\n",
    "rc('font', family=font_name)\n",
    "fig = plt.figure()\n",
    "\n",
    "df = search('김정은')\n",
    "\n",
    "df.plot()\n",
    "df"
   ]
  },
  {
   "cell_type": "code",
   "execution_count": null,
   "metadata": {},
   "outputs": [],
   "source": []
  }
 ],
 "metadata": {
  "kernelspec": {
   "display_name": "Python 3",
   "language": "python",
   "name": "python3"
  },
  "language_info": {
   "codemirror_mode": {
    "name": "ipython",
    "version": 3
   },
   "file_extension": ".py",
   "mimetype": "text/x-python",
   "name": "python",
   "nbconvert_exporter": "python",
   "pygments_lexer": "ipython3",
   "version": "3.7.6"
  }
 },
 "nbformat": 4,
 "nbformat_minor": 4
}
